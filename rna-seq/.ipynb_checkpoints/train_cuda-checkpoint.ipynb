{
 "cells": [
  {
   "cell_type": "code",
   "execution_count": null,
   "metadata": {},
   "outputs": [],
   "source": [
    "# !conda install pytorch torchvision cuda90 -c pytorch -y\n",
    "# !pip install qn\n",
    "# !pip install numpy==1.14.5"
   ]
  },
  {
   "cell_type": "code",
   "execution_count": null,
   "metadata": {},
   "outputs": [],
   "source": [
    "\n",
    "%%javascript\n",
    "IPython.OutputArea.prototype._should_scroll = function(lines) {\n",
    "    return false;\n",
    "}"
   ]
  },
  {
   "cell_type": "code",
   "execution_count": null,
   "metadata": {},
   "outputs": [],
   "source": [
    "import torch\n",
    "from torch.autograd import Variable,grad\n",
    "from torch import nn, optim\n",
    "import torch.nn.functional as F\n",
    "import qn\n",
    "import numpy as np\n",
    "\n",
    "import plot\n",
    "from model import DisNet, GenNet\n",
    "import sampler\n",
    "from progress import Progress\n",
    "\n",
    "def cuda(tensor):\n",
    "    return tensor.cuda() if torch.cuda.is_available() else tensor\n",
    "\n",
    "def cpu(tensor):\n",
    "    return tensor.cpu() if torch.cuda.is_available() else tensor\n",
    "\n",
    "\n",
    "prog = Progress()\n",
    "config = qn.load('hyperparams.yml')\n",
    "batchsize = config['batchsize']\n",
    "dis_net = cuda(DisNet(config['dim_x']))\n",
    "gen_net = cuda(GenNet(config['dim_z'],config['dim_x']))\n",
    "\n",
    "dis_optim = optim.Adam(dis_net.parameters(), lr=config['dis_lr'],\n",
    "    betas=(config['dis_beta1'],config['dis_beta2']))\n",
    "gen_optim = optim.Adam(gen_net.parameters(), lr=config['gen_lr'],\n",
    "    betas=(config['gen_beta1'],config['gen_beta2']))\n"
   ]
  },
  {
   "cell_type": "code",
   "execution_count": null,
   "metadata": {},
   "outputs": [],
   "source": [
    "prog.start()\n",
    "for i in range(config['num_updates']):\n",
    "    for _ in range(config['num_critic']):\n",
    "        gen_net.eval()\n",
    "        dis_net.train()\n",
    "        samples_true_numpy = sampler.sample_x(batchsize)\n",
    "        samples_true = Variable(cuda(torch.from_numpy(samples_true_numpy)))\n",
    "        z = sampler.sample_z(batchsize,config['dim_z'])\n",
    "        z = Variable(cuda(torch.from_numpy(z)))\n",
    "        samples_fake = gen_net(z).detach()\n",
    "        samples_fake_numpy = cpu(samples_fake.data).numpy()      \n",
    "\n",
    "        eps = np.random.uniform(size=batchsize).astype('float32')\n",
    "        eps2 = 1 - eps\n",
    "        # use transpose to broadcast\n",
    "        samples_mid_numpy = (samples_true_numpy.T*eps).T + \\\n",
    "            (samples_fake_numpy.T*eps2).T\n",
    "        samples_mid = Variable(cuda(torch.from_numpy(\n",
    "            samples_mid_numpy)),requires_grad=True)\n",
    "        f_mid = dis_net(samples_mid)\n",
    "        # [0]:outputs tuple\n",
    "        # torch.ones(): grad can be implicitly created only for scalar outputs\n",
    "        grad_mid = grad(f_mid,samples_mid,cuda(torch.ones(f_mid.size())),\n",
    "            create_graph=True)[0]\n",
    "        grad_mid_norm = grad_mid.norm(dim=1)\n",
    "        diff = (grad_mid_norm - 1).pow(2)\n",
    "\n",
    "        f_true = dis_net(samples_true)\n",
    "        f_fake = dis_net(samples_fake)\n",
    "        loss_critic = f_fake.mean() - f_true.mean() + \\\n",
    "            (config['lda']*diff).mean()\n",
    "        prog.add_loss_critic(cpu(loss_critic.data).numpy())\n",
    "        \n",
    "        dis_optim.zero_grad()\n",
    "        loss_critic.backward()\n",
    "        dis_optim.step()\n",
    "    \n",
    "    dis_net.eval()\n",
    "    gen_net.train()\n",
    "    prog.add_loss_dis()\n",
    "    z = sampler.sample_z(batchsize,config['dim_z'])\n",
    "    z = Variable(cuda(torch.from_numpy(z)))\n",
    "    samples_fake = gen_net(z)\n",
    "    f_fake = dis_net(samples_fake)\n",
    "    loss_gen = -f_fake.mean()\n",
    "    prog.add_loss_gen(cpu(loss_gen.data).numpy())\n",
    "    \n",
    "    gen_optim.zero_grad()\n",
    "    loss_gen.backward()\n",
    "    gen_optim.step()\n",
    "    \n",
    "    gen_net.eval()\n",
    "    dis_net.eval()\n",
    "    if (i+1)%config['num_plot'] == 0:\n",
    "        print(i+1,prog.duration())\n",
    "        z = sampler.sample_z(500,config['dim_z'])\n",
    "        z = Variable(cuda(torch.from_numpy(z)))\n",
    "        samples_fake = cpu(gen_net(z).data).numpy()\n",
    "        plot.plot_corr(samples_fake, filename='{}_corr'.format(i+1),show=True)\n",
    "        plot.plot_scatter(sampler.mat[:,:500].T,samples_fake[:500,:],\n",
    "            filename='{}_scatter'.format(i+1),show=True)\n",
    "        if (i+1) > 2000:\n",
    "            torch.save(dis_net.state_dict(),'temp_models/dis_net_{}.pt'.format(i+1))\n",
    "            torch.save(gen_net.state_dict(),'temp_models/gen_net_{}.pt'.format(i+1))\n",
    "        prog.start()\n",
    "prog.plot()\n"
   ]
  },
  {
   "cell_type": "code",
   "execution_count": null,
   "metadata": {},
   "outputs": [],
   "source": [
    "prog.plot()\n",
    "dis_net"
   ]
  },
  {
   "cell_type": "code",
   "execution_count": null,
   "metadata": {},
   "outputs": [],
   "source": [
    "# torch.save(dis_net.state_dict(),'models/model_1/dis_net.pt')\n",
    "# torch.save(gen_net.state_dict(),'models/model_1/gen_net.pt')\n",
    "# !cp model.py models/model_1/\n",
    "torch.save(cpu(dis_net).state_dict(),'temp_models/dis_net_cpu_{}.pt'.format(10000))\n"
   ]
  },
  {
   "cell_type": "code",
   "execution_count": null,
   "metadata": {},
   "outputs": [],
   "source": [
    "# dis_state = torch.load('models/ipf/dis_net_3700.pt')\n",
    "# gen_state = torch.load('models/ipf/gen_net_3700.pt')\n",
    "# dis_net.load_state_dict(dis_state)\n",
    "# gen_net.load_state_dict(gen_state)"
   ]
  },
  {
   "cell_type": "code",
   "execution_count": null,
   "metadata": {},
   "outputs": [],
   "source": [
    "# torch.save(dis_net.cpu().state_dict(),'models/ipf/dis_net_3700_cpu.pt')\n",
    "# torch.save(gen_net.cpu().state_dict(),'models/ipf/gen_net_3700_cpu.pt')"
   ]
  },
  {
   "cell_type": "code",
   "execution_count": null,
   "metadata": {},
   "outputs": [],
   "source": []
  }
 ],
 "metadata": {
  "kernelspec": {
   "display_name": "conda_python3",
   "language": "python",
   "name": "conda_python3"
  },
  "language_info": {
   "codemirror_mode": {
    "name": "ipython",
    "version": 3
   },
   "file_extension": ".py",
   "mimetype": "text/x-python",
   "name": "python",
   "nbconvert_exporter": "python",
   "pygments_lexer": "ipython3",
   "version": "3.6.4"
  }
 },
 "nbformat": 4,
 "nbformat_minor": 2
}
