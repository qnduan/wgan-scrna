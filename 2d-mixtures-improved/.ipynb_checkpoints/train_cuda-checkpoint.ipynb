{
 "cells": [
  {
   "cell_type": "code",
   "execution_count": 1,
   "metadata": {},
   "outputs": [],
   "source": [
    "#!conda install pytorch torchvision cuda90 -c pytorch -y\n",
    "#! pip install qn\n",
    "import torch\n",
    "from torch.autograd import Variable,grad\n",
    "from torch import nn, optim\n",
    "import torch.nn.functional as F\n",
    "import qn\n",
    "import numpy as np\n",
    "\n",
    "import plot\n",
    "from model import DisNet, GenNet\n",
    "import sampler\n",
    "from progress import Progress\n",
    "\n",
    "prog = Progress()\n",
    "config = qn.load('hyperparams.yml')\n",
    "batchsize = config['batchsize']\n",
    "dis_net = DisNet(config['dim_x'])\n",
    "gen_net = GenNet(config['dim_z'],config['dim_x'])\n",
    "dis_net.cuda()\n",
    "gen_net.cuda()\n",
    "\n",
    "dis_optim = optim.Adam(dis_net.parameters(), lr=config['dis_lr'],\n",
    "    betas=(config['dis_beta1'],config['dis_beta2']))\n",
    "gen_optim = optim.Adam(gen_net.parameters(), lr=config['gen_lr'],\n",
    "    betas=(config['gen_beta1'],config['gen_beta2']))"
   ]
  },
  {
   "cell_type": "code",
   "execution_count": 2,
   "metadata": {},
   "outputs": [
    {
     "ename": "RuntimeError",
     "evalue": "can't convert CUDA tensor to numpy (it doesn't support GPU arrays). Use .cpu() to move the tensor to host memory first.",
     "output_type": "error",
     "traceback": [
      "\u001b[0;31m---------------------------------------------------------------------------\u001b[0m",
      "\u001b[0;31mRuntimeError\u001b[0m                              Traceback (most recent call last)",
      "\u001b[0;32m<ipython-input-2-8996ecd976f8>\u001b[0m in \u001b[0;36m<module>\u001b[0;34m()\u001b[0m\n\u001b[1;32m     30\u001b[0m         \u001b[0mf_fake\u001b[0m \u001b[0;34m=\u001b[0m \u001b[0mdis_net\u001b[0m\u001b[0;34m(\u001b[0m\u001b[0msamples_fake\u001b[0m\u001b[0;34m)\u001b[0m\u001b[0;34m\u001b[0m\u001b[0m\n\u001b[1;32m     31\u001b[0m         \u001b[0mloss_critic\u001b[0m \u001b[0;34m=\u001b[0m \u001b[0mf_fake\u001b[0m\u001b[0;34m.\u001b[0m\u001b[0mmean\u001b[0m\u001b[0;34m(\u001b[0m\u001b[0;34m)\u001b[0m \u001b[0;34m-\u001b[0m \u001b[0mf_true\u001b[0m\u001b[0;34m.\u001b[0m\u001b[0mmean\u001b[0m\u001b[0;34m(\u001b[0m\u001b[0;34m)\u001b[0m \u001b[0;34m+\u001b[0m             \u001b[0;34m(\u001b[0m\u001b[0mconfig\u001b[0m\u001b[0;34m[\u001b[0m\u001b[0;34m'lda'\u001b[0m\u001b[0;34m]\u001b[0m\u001b[0;34m*\u001b[0m\u001b[0mdiff\u001b[0m\u001b[0;34m)\u001b[0m\u001b[0;34m.\u001b[0m\u001b[0mmean\u001b[0m\u001b[0;34m(\u001b[0m\u001b[0;34m)\u001b[0m\u001b[0;34m\u001b[0m\u001b[0m\n\u001b[0;32m---> 32\u001b[0;31m         \u001b[0mprog\u001b[0m\u001b[0;34m.\u001b[0m\u001b[0madd_loss_critic\u001b[0m\u001b[0;34m(\u001b[0m\u001b[0mloss_critic\u001b[0m\u001b[0;34m)\u001b[0m\u001b[0;34m\u001b[0m\u001b[0m\n\u001b[0m\u001b[1;32m     33\u001b[0m \u001b[0;34m\u001b[0m\u001b[0m\n\u001b[1;32m     34\u001b[0m         \u001b[0mdis_optim\u001b[0m\u001b[0;34m.\u001b[0m\u001b[0mzero_grad\u001b[0m\u001b[0;34m(\u001b[0m\u001b[0;34m)\u001b[0m\u001b[0;34m\u001b[0m\u001b[0m\n",
      "\u001b[0;32m~/SageMaker/gan-torch/2d-mixtures-improved/progress.py\u001b[0m in \u001b[0;36madd_loss_critic\u001b[0;34m(self, loss)\u001b[0m\n\u001b[1;32m      9\u001b[0m \u001b[0;34m\u001b[0m\u001b[0m\n\u001b[1;32m     10\u001b[0m     \u001b[0;32mdef\u001b[0m \u001b[0madd_loss_critic\u001b[0m\u001b[0;34m(\u001b[0m\u001b[0mself\u001b[0m\u001b[0;34m,\u001b[0m\u001b[0mloss\u001b[0m\u001b[0;34m)\u001b[0m\u001b[0;34m:\u001b[0m\u001b[0;34m\u001b[0m\u001b[0m\n\u001b[0;32m---> 11\u001b[0;31m         \u001b[0mself\u001b[0m\u001b[0;34m.\u001b[0m\u001b[0mloss_critic\u001b[0m\u001b[0;34m.\u001b[0m\u001b[0mappend\u001b[0m\u001b[0;34m(\u001b[0m\u001b[0mloss\u001b[0m\u001b[0;34m.\u001b[0m\u001b[0mdata\u001b[0m\u001b[0;34m.\u001b[0m\u001b[0mnumpy\u001b[0m\u001b[0;34m(\u001b[0m\u001b[0;34m)\u001b[0m\u001b[0;34m[\u001b[0m\u001b[0;36m0\u001b[0m\u001b[0;34m]\u001b[0m\u001b[0;34m)\u001b[0m\u001b[0;34m\u001b[0m\u001b[0m\n\u001b[0m\u001b[1;32m     12\u001b[0m \u001b[0;34m\u001b[0m\u001b[0m\n\u001b[1;32m     13\u001b[0m     \u001b[0;32mdef\u001b[0m \u001b[0madd_loss_gen\u001b[0m\u001b[0;34m(\u001b[0m\u001b[0mself\u001b[0m\u001b[0;34m,\u001b[0m\u001b[0mloss\u001b[0m\u001b[0;34m)\u001b[0m\u001b[0;34m:\u001b[0m\u001b[0;34m\u001b[0m\u001b[0m\n",
      "\u001b[0;31mRuntimeError\u001b[0m: can't convert CUDA tensor to numpy (it doesn't support GPU arrays). Use .cpu() to move the tensor to host memory first."
     ]
    }
   ],
   "source": [
    "for i in range(config['num_updates']):\n",
    "    for _ in range(config['num_critic']):\n",
    "        samples_true = sampler.gaussian_mixture_circle(\n",
    "            batchsize, config['num_mixture'],\n",
    "            scale=config['scale'],std=config['std'])\n",
    "        samples_true_numpy = samples_true / config['scale']\n",
    "        samples_true = Variable(torch.from_numpy(samples_true_numpy).cuda())\n",
    "        z = sampler.sample_z(config['dim_z'],batchsize,\n",
    "            gaussian=config['gaussian'])\n",
    "        z = Variable(torch.from_numpy(z).cuda())\n",
    "        samples_fake = gen_net(z).detach()\n",
    "        samples_fake /= config['scale']\n",
    "        samples_fake_numpy = samples_fake.data.cpu().numpy()\n",
    "\n",
    "        eps = np.random.uniform(size=batchsize).astype('float32')\n",
    "        eps2 = 1 - eps\n",
    "        # use transpose to broadcast\n",
    "        samples_mid_numpy = (samples_true_numpy.T*eps).T + \\\n",
    "            (samples_fake_numpy.T*eps2).T\n",
    "        samples_mid = Variable(torch.from_numpy(\n",
    "            samples_mid_numpy).cuda(),requires_grad=True)\n",
    "        f_mid = dis_net(samples_mid)\n",
    "        # [0]:outputs tuple\n",
    "        # torch.ones(): grad can be implicitly created only for scalar outputs\n",
    "        grad_mid = grad(f_mid,samples_mid,torch.ones(f_mid.size()).cuda(),\n",
    "            create_graph=True)[0]\n",
    "        grad_mid_norm = grad_mid.norm(dim=1)\n",
    "        diff = (grad_mid_norm - 1).pow(2)\n",
    "\n",
    "        f_true = dis_net(samples_true)\n",
    "        f_fake = dis_net(samples_fake)\n",
    "        loss_critic = f_fake.mean() - f_true.mean() + \\\n",
    "            (config['lda']*diff).mean()\n",
    "        prog.add_loss_critic(loss_critic.data.cpu().numpy())\n",
    "\n",
    "        dis_optim.zero_grad()\n",
    "        loss_critic.backward()\n",
    "        dis_optim.step()\n",
    "\n",
    "    prog.add_loss_dis()\n",
    "    z = sampler.sample_z(config['dim_z'],batchsize,\n",
    "        gaussian=config['gaussian'])\n",
    "    z = Variable(torch.from_numpy(z))\n",
    "    samples_fake = gen_net(z)\n",
    "    samples_fake /= config['scale']\n",
    "    f_fake = dis_net(samples_fake)\n",
    "    loss_gen = -f_fake.mean()\n",
    "    prog.add_loss_gen(loss_gen)\n",
    "\n",
    "    gen_optim.zero_grad()\n",
    "    loss_gen.backward()\n",
    "    gen_optim.step()\n",
    "\n",
    "    if (i+1)%config['num_plot'] == 0:\n",
    "        print(i+1)\n",
    "        z = sampler.sample_z(config['dim_z'],10000,\n",
    "            gaussian=config['gaussian'])\n",
    "        z = Variable(torch.from_numpy(z).cuda())\n",
    "        samples_fake = gen_net(z).data.cpu().numpy()\n",
    "        plot.plot_scatter(samples_fake,filename='{}_scatter'.format(i+1),show=True)\n",
    "        plot.plot_kde(samples_fake,filename='{}_kde'.format(i+1),show=True)\n",
    "prog.plot()"
   ]
  },
  {
   "cell_type": "code",
   "execution_count": null,
   "metadata": {},
   "outputs": [],
   "source": [
    "a = torch.ones(5)*3\n",
    "a.cuda()\n",
    "b = a*a\n",
    "a.numpy()\n",
    "b.numpy()\n",
    "print(b)"
   ]
  },
  {
   "cell_type": "code",
   "execution_count": null,
   "metadata": {
    "collapsed": true
   },
   "outputs": [],
   "source": []
  }
 ],
 "metadata": {
  "kernelspec": {
   "display_name": "conda_python3",
   "language": "python",
   "name": "conda_python3"
  },
  "language_info": {
   "codemirror_mode": {
    "name": "ipython",
    "version": 3
   },
   "file_extension": ".py",
   "mimetype": "text/x-python",
   "name": "python",
   "nbconvert_exporter": "python",
   "pygments_lexer": "ipython3",
   "version": "3.6.2"
  }
 },
 "nbformat": 4,
 "nbformat_minor": 2
}
